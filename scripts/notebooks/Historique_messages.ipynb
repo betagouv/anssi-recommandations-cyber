{
 "cells": [
  {
   "cell_type": "code",
   "execution_count": null,
   "id": "0",
   "metadata": {},
   "outputs": [],
   "source": [
    "from openai.types.chat import ChatCompletionSystemMessageParam\n",
    "\n",
    "system_msg = ChatCompletionSystemMessageParam(\n",
    "    content=\"Tu es un assistant spécialisé en cybersécurité.\"\n",
    ")\n",
    "\n",
    "print(system_msg)"
   ]
  },
  {
   "cell_type": "code",
   "execution_count": null,
   "id": "1",
   "metadata": {},
   "outputs": [],
   "source": [
    "dict(system_msg)\n",
    "print(system_msg[\"role\"])"
   ]
  },
  {
   "cell_type": "markdown",
   "id": "2",
   "metadata": {},
   "source": [
    "# Objectif du notebook :\n",
    "Valider le fait de pouvoir ajouter plusieurs messages dans un historique de conversation : \n",
    "- en ajoutant des conversations à la variable messages qui est une liste soumise au LLM.\n",
    "- tester d'intégrer ces messages à Langchain pour bénéficier de fonctions déjà développées."
   ]
  },
  {
   "cell_type": "markdown",
   "id": "3",
   "metadata": {},
   "source": [
    "# Historique"
   ]
  },
  {
   "cell_type": "code",
   "execution_count": null,
   "id": "4",
   "metadata": {},
   "outputs": [],
   "source": [
    "import os\n",
    "import requests\n",
    "from openai import OpenAI\n",
    "\n",
    "base_url = \"https://albert.api.etalab.gouv.fr/v1\"\n",
    "api_key = os.getenv(\"ALBERT_API_KEY\")\n",
    "client = OpenAI(base_url=base_url, api_key=api_key)\n",
    "session = requests.session()\n",
    "session.headers = {\"Authorization\": f\"Bearer {api_key}\"}"
   ]
  },
  {
   "cell_type": "markdown",
   "id": "5",
   "metadata": {},
   "source": [
    "# Historique de conversation sans mécansime supplémentaire"
   ]
  },
  {
   "cell_type": "code",
   "execution_count": null,
   "id": "6",
   "metadata": {},
   "outputs": [],
   "source": [
    "# Historique des messages de la conversation\n",
    "messages = []\n",
    "\n",
    "# Tour 1 : l’utilisateur pose une première question\n",
    "messages.append(\n",
    "    {\"role\": \"user\", \"content\": \"Quelles sont les principalles attaues informatique ?\"}\n",
    ")\n",
    "response = client.chat.completions.create(model=\"albert-large\", messages=messages)\n",
    "# On enregistre la réponse de l'assistant\n",
    "messages.append({\"role\": \"assistant\", \"content\": response.choices[0].message.content})\n",
    "print(\"Réponse 1 :\", response.choices[0].message.content)\n",
    "print(\"*\" * 100)\n",
    "\n",
    "# Tour 2 : l’utilisateur pose une nouvelle question\n",
    "messages.append({\"role\": \"user\", \"content\": \"Ici qu'est ce qu'un dictionnaire ?\"})\n",
    "response = client.chat.completions.create(model=\"albert-large\", messages=messages)\n",
    "messages.append({\"role\": \"assistant\", \"content\": response.choices[0].message.content})\n",
    "print(\"Réponse 2 :\", response.choices[0].message.content)\n",
    "print(\"*\" * 100)\n",
    "\n",
    "# Tour 3 : l’utilisateur pose une question qui fait référence à la définition donnée au tour 1\n",
    "messages.append(\n",
    "    {\"role\": \"user\", \"content\": \"Quelle est la première attaque que tu as cité ?\"}\n",
    ")\n",
    "response = client.chat.completions.create(model=\"albert-large\", messages=messages)\n",
    "print(\"Réponse 3 :\", response.choices[0].message.content)\n",
    "print(\"*\" * 100)"
   ]
  },
  {
   "cell_type": "markdown",
   "id": "7",
   "metadata": {},
   "source": [
    "# Intégration Langchain"
   ]
  },
  {
   "cell_type": "code",
   "execution_count": null,
   "id": "8",
   "metadata": {},
   "outputs": [],
   "source": [
    "!uv add langchain\n",
    "!uv add langchain_openai"
   ]
  },
  {
   "cell_type": "code",
   "execution_count": null,
   "id": "9",
   "metadata": {},
   "outputs": [],
   "source": [
    "from typing import List, Dict\n",
    "\n",
    "try:\n",
    "    from langchain_openai import ChatOpenAI\n",
    "    from langchain.memory import ConversationBufferMemory\n",
    "    from langchain.chains import ConversationChain\n",
    "except ImportError:\n",
    "    ChatOpenAI = None  # sera vérifié dans le constructeur\n",
    "\n",
    "\n",
    "class LangChainHistoryManager:\n",
    "    \"\"\"Gère l’historique de conversation en s’appuyant sur LangChain.\n",
    "\n",
    "    À chaque appel, la question de l’utilisateur est injectée dans la chaîne\n",
    "    ConversationChain ; la mémoire ConversationBufferMemory stocke tous les messages.\n",
    "    \"\"\"\n",
    "\n",
    "    def __init__(\n",
    "        self,\n",
    "        api_key: str,\n",
    "        base_url: str = \"https://albert.api.etalab.gouv.fr/v1\",\n",
    "        model_name: str = \"albert-large\",\n",
    "        temperature: float = 0.0,\n",
    "    ) -> None:\n",
    "        if ChatOpenAI is None:\n",
    "            raise ImportError(\n",
    "                \"LangChainHistoryManager nécessite les bibliothèques langchain et langchain-openai. \"\n",
    "                \"Installez-les via pip avant utilisation.\"\n",
    "            )\n",
    "        self.memory = ConversationBufferMemory(return_messages=True)\n",
    "        self.chain = ConversationChain(\n",
    "            llm=ChatOpenAI(\n",
    "                model_name=model_name,\n",
    "                base_url=base_url,\n",
    "                openai_api_key=api_key,\n",
    "                temperature=temperature,\n",
    "                streaming=False,\n",
    "            ),\n",
    "            memory=self.memory,\n",
    "        )\n",
    "\n",
    "    def ask(self, question: str) -> str:\n",
    "        \"\"\"Envoie une question au modèle et met à jour l’historique.\"\"\"\n",
    "        response = self.chain.predict(input=question)\n",
    "        return response\n",
    "\n",
    "    @property\n",
    "    def messages(self) -> List[Dict[str, str]]:\n",
    "        \"\"\"Expose l’historique sous la forme d’une liste de dicts (role/content).\"\"\"\n",
    "        history = self.memory.load_memory_variables({}).get(\"history\", [])\n",
    "        result: List[Dict[str, str]] = []\n",
    "        for msg in history:\n",
    "            role = getattr(msg, \"role\", \"user\")\n",
    "            result.append({\"role\": role, \"content\": msg.content})\n",
    "        return result"
   ]
  },
  {
   "cell_type": "code",
   "execution_count": null,
   "id": "10",
   "metadata": {},
   "outputs": [],
   "source": [
    "manager = LangChainHistoryManager(api_key)\n",
    "\n",
    "rep1 = manager.ask(\"Quelles sont les principales attaques informatiques ?\")\n",
    "print(\"Réponse 1 :\", rep1)\n",
    "print(\"*\" * 100)\n",
    "\n",
    "rep2 = manager.ask(\"Ici qu'est ce qu'un dictionnaire ?\")\n",
    "print(\"Réponse 2 :\", rep2)\n",
    "print(\"*\" * 100)\n",
    "\n",
    "rep3 = manager.ask(\"Quelle est la première attaque que tu as citée ?\")\n",
    "print(\"Réponse 3 :\", rep3)\n",
    "print(\"*\" * 100)"
   ]
  }
 ],
 "metadata": {
  "kernelspec": {
   "display_name": "Python 3 (ipykernel)",
   "language": "python",
   "name": "python3"
  },
  "language_info": {
   "codemirror_mode": {
    "name": "ipython",
    "version": 3
   },
   "file_extension": ".py",
   "mimetype": "text/x-python",
   "name": "python",
   "nbconvert_exporter": "python",
   "pygments_lexer": "ipython3",
   "version": "3.13.3"
  }
 },
 "nbformat": 4,
 "nbformat_minor": 5
}
